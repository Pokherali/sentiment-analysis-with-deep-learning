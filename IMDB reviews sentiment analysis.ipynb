{
 "cells": [
  {
   "cell_type": "markdown",
   "metadata": {},
   "source": [
    "## 1. Import all required modules"
   ]
  },
  {
   "cell_type": "code",
   "execution_count": 1,
   "metadata": {},
   "outputs": [
    {
     "name": "stderr",
     "output_type": "stream",
     "text": [
      "Using TensorFlow backend.\n"
     ]
    }
   ],
   "source": [
    "import numpy as np\n",
    "import pandas as pd\n",
    "from bs4 import BeautifulSoup\n",
    "import matplotlib.pyplot as plt\n",
    "from keras.models import Sequential\n",
    "from keras.preprocessing import sequence, text\n",
    "from keras.layers import Embedding, Dense, LSTM, GRU, Conv1D, MaxPooling1D, Flatten"
   ]
  },
  {
   "cell_type": "markdown",
   "metadata": {},
   "source": [
    "## 2. Load Data\n",
    "\n",
    "Dataset used: [IMDB Dataset of 50K Movie Reviews](https://www.kaggle.com/lakshmi25npathi/imdb-dataset-of-50k-movie-reviews/)"
   ]
  },
  {
   "cell_type": "code",
   "execution_count": 2,
   "metadata": {},
   "outputs": [
    {
     "data": {
      "text/html": [
       "<div>\n",
       "<style scoped>\n",
       "    .dataframe tbody tr th:only-of-type {\n",
       "        vertical-align: middle;\n",
       "    }\n",
       "\n",
       "    .dataframe tbody tr th {\n",
       "        vertical-align: top;\n",
       "    }\n",
       "\n",
       "    .dataframe thead th {\n",
       "        text-align: right;\n",
       "    }\n",
       "</style>\n",
       "<table border=\"1\" class=\"dataframe\">\n",
       "  <thead>\n",
       "    <tr style=\"text-align: right;\">\n",
       "      <th></th>\n",
       "      <th>review</th>\n",
       "      <th>sentiment</th>\n",
       "    </tr>\n",
       "  </thead>\n",
       "  <tbody>\n",
       "    <tr>\n",
       "      <th>0</th>\n",
       "      <td>One of the other reviewers has mentioned that ...</td>\n",
       "      <td>positive</td>\n",
       "    </tr>\n",
       "    <tr>\n",
       "      <th>1</th>\n",
       "      <td>A wonderful little production. &lt;br /&gt;&lt;br /&gt;The...</td>\n",
       "      <td>positive</td>\n",
       "    </tr>\n",
       "    <tr>\n",
       "      <th>2</th>\n",
       "      <td>I thought this was a wonderful way to spend ti...</td>\n",
       "      <td>positive</td>\n",
       "    </tr>\n",
       "    <tr>\n",
       "      <th>3</th>\n",
       "      <td>Basically there's a family where a little boy ...</td>\n",
       "      <td>negative</td>\n",
       "    </tr>\n",
       "    <tr>\n",
       "      <th>4</th>\n",
       "      <td>Petter Mattei's \"Love in the Time of Money\" is...</td>\n",
       "      <td>positive</td>\n",
       "    </tr>\n",
       "  </tbody>\n",
       "</table>\n",
       "</div>"
      ],
      "text/plain": [
       "                                              review sentiment\n",
       "0  One of the other reviewers has mentioned that ...  positive\n",
       "1  A wonderful little production. <br /><br />The...  positive\n",
       "2  I thought this was a wonderful way to spend ti...  positive\n",
       "3  Basically there's a family where a little boy ...  negative\n",
       "4  Petter Mattei's \"Love in the Time of Money\" is...  positive"
      ]
     },
     "execution_count": 2,
     "metadata": {},
     "output_type": "execute_result"
    }
   ],
   "source": [
    "data = pd.read_csv('./IMDB Dataset.csv')\n",
    "data.head()"
   ]
  },
  {
   "cell_type": "code",
   "execution_count": 3,
   "metadata": {},
   "outputs": [
    {
     "data": {
      "text/plain": [
       "positive    25000\n",
       "negative    25000\n",
       "Name: sentiment, dtype: int64"
      ]
     },
     "execution_count": 3,
     "metadata": {},
     "output_type": "execute_result"
    }
   ],
   "source": [
    "data['sentiment'].value_counts()"
   ]
  },
  {
   "cell_type": "markdown",
   "metadata": {},
   "source": [
    "## 3. Preprocessing reviews\n",
    "\n",
    "As reviews contain HTML tags, [BeautifulSoup](https://www.crummy.com/software/BeautifulSoup/bs4/doc/) is helpful for getting only the text from reviews."
   ]
  },
  {
   "cell_type": "code",
   "execution_count": 4,
   "metadata": {},
   "outputs": [],
   "source": [
    "def remove_html(text):\n",
    "    soup = BeautifulSoup(text, 'html.parser')\n",
    "    return soup.get_text()\n",
    "\n",
    "def clean_text(raw_text):\n",
    "    text = remove_html(raw_text)\n",
    "    return text"
   ]
  },
  {
   "cell_type": "code",
   "execution_count": 5,
   "metadata": {},
   "outputs": [
    {
     "data": {
      "text/html": [
       "<div>\n",
       "<style scoped>\n",
       "    .dataframe tbody tr th:only-of-type {\n",
       "        vertical-align: middle;\n",
       "    }\n",
       "\n",
       "    .dataframe tbody tr th {\n",
       "        vertical-align: top;\n",
       "    }\n",
       "\n",
       "    .dataframe thead th {\n",
       "        text-align: right;\n",
       "    }\n",
       "</style>\n",
       "<table border=\"1\" class=\"dataframe\">\n",
       "  <thead>\n",
       "    <tr style=\"text-align: right;\">\n",
       "      <th></th>\n",
       "      <th>review</th>\n",
       "      <th>sentiment</th>\n",
       "    </tr>\n",
       "  </thead>\n",
       "  <tbody>\n",
       "    <tr>\n",
       "      <th>0</th>\n",
       "      <td>One of the other reviewers has mentioned that ...</td>\n",
       "      <td>positive</td>\n",
       "    </tr>\n",
       "    <tr>\n",
       "      <th>1</th>\n",
       "      <td>A wonderful little production. The filming tec...</td>\n",
       "      <td>positive</td>\n",
       "    </tr>\n",
       "    <tr>\n",
       "      <th>2</th>\n",
       "      <td>I thought this was a wonderful way to spend ti...</td>\n",
       "      <td>positive</td>\n",
       "    </tr>\n",
       "    <tr>\n",
       "      <th>3</th>\n",
       "      <td>Basically there's a family where a little boy ...</td>\n",
       "      <td>negative</td>\n",
       "    </tr>\n",
       "    <tr>\n",
       "      <th>4</th>\n",
       "      <td>Petter Mattei's \"Love in the Time of Money\" is...</td>\n",
       "      <td>positive</td>\n",
       "    </tr>\n",
       "  </tbody>\n",
       "</table>\n",
       "</div>"
      ],
      "text/plain": [
       "                                              review sentiment\n",
       "0  One of the other reviewers has mentioned that ...  positive\n",
       "1  A wonderful little production. The filming tec...  positive\n",
       "2  I thought this was a wonderful way to spend ti...  positive\n",
       "3  Basically there's a family where a little boy ...  negative\n",
       "4  Petter Mattei's \"Love in the Time of Money\" is...  positive"
      ]
     },
     "execution_count": 5,
     "metadata": {},
     "output_type": "execute_result"
    }
   ],
   "source": [
    "data['review'] = data['review'].apply(clean_text)\n",
    "data.head()"
   ]
  },
  {
   "cell_type": "markdown",
   "metadata": {},
   "source": [
    "## 4. Tokenize words in reviews\n",
    "\n",
    "Consider only 10000 most frequenlty used words (```vocab_size```) in reviews for tokenization and only first 100 words (```max_len```) in a review. "
   ]
  },
  {
   "cell_type": "code",
   "execution_count": 6,
   "metadata": {},
   "outputs": [],
   "source": [
    "# maximum number of words to keep, based on word frequency\n",
    "vocab_size = 10000\n",
    "\n",
    "tokenizer = text.Tokenizer(num_words=vocab_size)\n",
    "tokenizer.fit_on_texts(data['review'])\n",
    "sequences = tokenizer.texts_to_sequences(data['review'])\n",
    "word_index = tokenizer.word_index"
   ]
  },
  {
   "cell_type": "code",
   "execution_count": 7,
   "metadata": {},
   "outputs": [],
   "source": [
    "# maximum length of all sequences\n",
    "max_len = 100\n",
    "\n",
    "x = sequence.pad_sequences(sequences, maxlen=max_len)"
   ]
  },
  {
   "cell_type": "code",
   "execution_count": 8,
   "metadata": {},
   "outputs": [],
   "source": [
    "sentiments = {\n",
    "    'positive': 1,\n",
    "    'negative': 0\n",
    "}\n",
    "\n",
    "y = np.asarray(data['sentiment'].map(sentiments))"
   ]
  },
  {
   "cell_type": "markdown",
   "metadata": {},
   "source": [
    "## 5. Split data\n",
    "\n",
    "Split 60% of data for training, 20% of data for cross validation and 20% data for testing. "
   ]
  },
  {
   "cell_type": "code",
   "execution_count": 9,
   "metadata": {},
   "outputs": [],
   "source": [
    "train_samples = 40000\n",
    "\n",
    "x_train = x[:train_samples]\n",
    "y_train = y[:train_samples]\n",
    "\n",
    "x_test = x[train_samples:]\n",
    "y_test = y[train_samples:]"
   ]
  },
  {
   "cell_type": "markdown",
   "metadata": {},
   "source": [
    "## 6. Load GloVe Embedding Vectors\n",
    "\n",
    "Load [GloVe](https://nlp.stanford.edu/projects/glove/) file with 100 Dimension vector into ```embedding_index```."
   ]
  },
  {
   "cell_type": "code",
   "execution_count": 10,
   "metadata": {},
   "outputs": [],
   "source": [
    "def load_glove(path):\n",
    "    \n",
    "    embedding_index = {}\n",
    "    for line in open(path):\n",
    "        values = line.split()\n",
    "        word = values[0]\n",
    "        coeff = np.asarray(values[1:], dtype='float32')\n",
    "        embedding_index[word] = coeff\n",
    "    \n",
    "    return embedding_index"
   ]
  },
  {
   "cell_type": "code",
   "execution_count": 11,
   "metadata": {},
   "outputs": [],
   "source": [
    "embedding_index = load_glove('./glove.6B.100d.txt')"
   ]
  },
  {
   "cell_type": "markdown",
   "metadata": {},
   "source": [
    "## 7. Prepare embedding matrix\n",
    "\n",
    "Prepare embedding matrix of shape (```vocab_size```, ```embedding_dim```) using vectors from ```embedding_index```."
   ]
  },
  {
   "cell_type": "code",
   "execution_count": 12,
   "metadata": {},
   "outputs": [
    {
     "name": "stdout",
     "output_type": "stream",
     "text": [
      "Shape of embedding matrix: (10000, 100)\n"
     ]
    }
   ],
   "source": [
    "embedding_dim = 100\n",
    "embedding_matrix = np.zeros((vocab_size, embedding_dim))\n",
    "\n",
    "for word, index in word_index.items():\n",
    "    if index < vocab_size:\n",
    "        vector = embedding_index.get(word);\n",
    "        if vector is not None:\n",
    "            embedding_matrix[index] = embedding_index.get(word)\n",
    "\n",
    "print('Shape of embedding matrix:', embedding_matrix.shape)"
   ]
  },
  {
   "cell_type": "code",
   "execution_count": 13,
   "metadata": {},
   "outputs": [
    {
     "data": {
      "text/plain": [
       "array([ True,  True,  True,  True,  True,  True,  True,  True,  True,\n",
       "        True,  True,  True,  True,  True,  True,  True,  True,  True,\n",
       "        True,  True,  True,  True,  True,  True,  True,  True,  True,\n",
       "        True,  True,  True,  True,  True,  True,  True,  True,  True,\n",
       "        True,  True,  True,  True,  True,  True,  True,  True,  True,\n",
       "        True,  True,  True,  True,  True,  True,  True,  True,  True,\n",
       "        True,  True,  True,  True,  True,  True,  True,  True,  True,\n",
       "        True,  True,  True,  True,  True,  True,  True,  True,  True,\n",
       "        True,  True,  True,  True,  True,  True,  True,  True,  True,\n",
       "        True,  True,  True,  True,  True,  True,  True,  True,  True,\n",
       "        True,  True,  True,  True,  True,  True,  True,  True,  True,\n",
       "        True])"
      ]
     },
     "execution_count": 13,
     "metadata": {},
     "output_type": "execute_result"
    }
   ],
   "source": [
    "# check for successful embedding matrix\n",
    "\n",
    "embedding_matrix[word_index.get('the')] == embedding_index.get('the')"
   ]
  },
  {
   "cell_type": "markdown",
   "metadata": {},
   "source": [
    "## 8. Prepare and train models\n",
    "\n",
    "Prepare model and load weights of ```embedding_matrix``` and set the embedding layer to ```trainable = False```"
   ]
  },
  {
   "cell_type": "code",
   "execution_count": 14,
   "metadata": {},
   "outputs": [],
   "source": [
    "def get_LSTM_model(units = 32, dropout = 0):\n",
    "    \n",
    "    model = Sequential([\n",
    "        Embedding(vocab_size, embedding_dim, input_length=max_len, weights=[embedding_matrix], trainable=False),\n",
    "        LSTM(units, dropout=dropout),\n",
    "        Dense(1, activation='sigmoid')\n",
    "    ])\n",
    "    model.compile(optimizer='adam', loss='binary_crossentropy', metrics=['acc'])\n",
    "    \n",
    "    return model\n",
    "\n",
    "\n",
    "def get_GRU_model(units = 32, dropout = 0):\n",
    "    \n",
    "    model = Sequential([\n",
    "        Embedding(vocab_size, embedding_dim, input_length=max_len, weights=[embedding_matrix], trainable=False),\n",
    "        GRU(units, dropout=dropout),\n",
    "        Dense(1, activation='sigmoid')\n",
    "    ])\n",
    "    model.compile(optimizer='adam', loss='binary_crossentropy', metrics=['acc'])\n",
    "    \n",
    "    return model\n",
    "\n",
    "\n",
    "def get_CNN_model(filters = 32, filter_size = 7, pool_size = 5):\n",
    "    \n",
    "    model = Sequential([\n",
    "        Embedding(vocab_size, embedding_dim, input_length=max_len, weights=[embedding_matrix], trainable=False),\n",
    "        Conv1D(filters, filter_size, activation='relu'),\n",
    "        MaxPooling1D(pool_size),\n",
    "        Flatten(),\n",
    "        Dense(1, activation='sigmoid')\n",
    "    ])\n",
    "    model.compile(optimizer='adam', loss='binary_crossentropy', metrics=['acc'])\n",
    "    \n",
    "    return model"
   ]
  },
  {
   "cell_type": "code",
   "execution_count": 15,
   "metadata": {},
   "outputs": [
    {
     "name": "stdout",
     "output_type": "stream",
     "text": [
      "Model: \"sequential_1\"\n",
      "_________________________________________________________________\n",
      "Layer (type)                 Output Shape              Param #   \n",
      "=================================================================\n",
      "embedding_1 (Embedding)      (None, 100, 100)          1000000   \n",
      "_________________________________________________________________\n",
      "lstm_1 (LSTM)                (None, 32)                17024     \n",
      "_________________________________________________________________\n",
      "dense_1 (Dense)              (None, 1)                 33        \n",
      "=================================================================\n",
      "Total params: 1,017,057\n",
      "Trainable params: 17,057\n",
      "Non-trainable params: 1,000,000\n",
      "_________________________________________________________________\n"
     ]
    }
   ],
   "source": [
    "LSTM_model = get_LSTM_model()\n",
    "LSTM_model.summary()"
   ]
  },
  {
   "cell_type": "code",
   "execution_count": 16,
   "metadata": {},
   "outputs": [
    {
     "name": "stdout",
     "output_type": "stream",
     "text": [
      "Model: \"sequential_2\"\n",
      "_________________________________________________________________\n",
      "Layer (type)                 Output Shape              Param #   \n",
      "=================================================================\n",
      "embedding_2 (Embedding)      (None, 100, 100)          1000000   \n",
      "_________________________________________________________________\n",
      "gru_1 (GRU)                  (None, 32)                12768     \n",
      "_________________________________________________________________\n",
      "dense_2 (Dense)              (None, 1)                 33        \n",
      "=================================================================\n",
      "Total params: 1,012,801\n",
      "Trainable params: 12,801\n",
      "Non-trainable params: 1,000,000\n",
      "_________________________________________________________________\n"
     ]
    }
   ],
   "source": [
    "GRU_model = get_GRU_model()\n",
    "GRU_model.summary()"
   ]
  },
  {
   "cell_type": "code",
   "execution_count": 17,
   "metadata": {},
   "outputs": [
    {
     "name": "stdout",
     "output_type": "stream",
     "text": [
      "Model: \"sequential_3\"\n",
      "_________________________________________________________________\n",
      "Layer (type)                 Output Shape              Param #   \n",
      "=================================================================\n",
      "embedding_3 (Embedding)      (None, 100, 100)          1000000   \n",
      "_________________________________________________________________\n",
      "conv1d_1 (Conv1D)            (None, 94, 32)            22432     \n",
      "_________________________________________________________________\n",
      "max_pooling1d_1 (MaxPooling1 (None, 18, 32)            0         \n",
      "_________________________________________________________________\n",
      "flatten_1 (Flatten)          (None, 576)               0         \n",
      "_________________________________________________________________\n",
      "dense_3 (Dense)              (None, 1)                 577       \n",
      "=================================================================\n",
      "Total params: 1,023,009\n",
      "Trainable params: 23,009\n",
      "Non-trainable params: 1,000,000\n",
      "_________________________________________________________________\n"
     ]
    }
   ],
   "source": [
    "CNN_model = get_CNN_model()\n",
    "CNN_model.summary()"
   ]
  },
  {
   "cell_type": "code",
   "execution_count": 18,
   "metadata": {},
   "outputs": [],
   "source": [
    "epochs = 5\n",
    "batch_size = 32\n",
    "val_split = 0.2"
   ]
  },
  {
   "cell_type": "code",
   "execution_count": 20,
   "metadata": {},
   "outputs": [
    {
     "name": "stdout",
     "output_type": "stream",
     "text": [
      "Train on 32000 samples, validate on 8000 samples\n",
      "Epoch 1/5\n",
      "32000/32000 [==============================] - 59s 2ms/step - loss: 0.2986 - acc: 0.8704 - val_loss: 0.3276 - val_acc: 0.8565\n",
      "Epoch 2/5\n",
      "32000/32000 [==============================] - 45s 1ms/step - loss: 0.2860 - acc: 0.8765 - val_loss: 0.3265 - val_acc: 0.8580\n",
      "Epoch 3/5\n",
      "32000/32000 [==============================] - 50s 2ms/step - loss: 0.2739 - acc: 0.8837 - val_loss: 0.3250 - val_acc: 0.8581\n",
      "Epoch 4/5\n",
      "32000/32000 [==============================] - 41s 1ms/step - loss: 0.2595 - acc: 0.8895 - val_loss: 0.3302 - val_acc: 0.8562\n",
      "Epoch 5/5\n",
      "32000/32000 [==============================] - 44s 1ms/step - loss: 0.2504 - acc: 0.8935 - val_loss: 0.3386 - val_acc: 0.8537\n"
     ]
    }
   ],
   "source": [
    "LSTM_history = LSTM_model.fit(x_train, y_train, epochs=epochs, batch_size=batch_size, validation_split=val_split)\n",
    "LSTM_model.save('LSTM_imdb_sentiment_analysis.h5')"
   ]
  },
  {
   "cell_type": "code",
   "execution_count": 21,
   "metadata": {},
   "outputs": [
    {
     "name": "stdout",
     "output_type": "stream",
     "text": [
      "Train on 32000 samples, validate on 8000 samples\n",
      "Epoch 1/5\n",
      "32000/32000 [==============================] - 51s 2ms/step - loss: 0.4768 - acc: 0.7580 - val_loss: 0.3918 - val_acc: 0.8200\n",
      "Epoch 2/5\n",
      "32000/32000 [==============================] - 47s 1ms/step - loss: 0.3684 - acc: 0.8330 - val_loss: 0.3603 - val_acc: 0.8435\n",
      "Epoch 3/5\n",
      "32000/32000 [==============================] - 45s 1ms/step - loss: 0.3430 - acc: 0.8465 - val_loss: 0.3441 - val_acc: 0.8482\n",
      "Epoch 4/5\n",
      "32000/32000 [==============================] - 47s 1ms/step - loss: 0.3208 - acc: 0.8579 - val_loss: 0.3328 - val_acc: 0.8533\n",
      "Epoch 5/5\n",
      "32000/32000 [==============================] - 47s 1ms/step - loss: 0.3024 - acc: 0.8675 - val_loss: 0.3300 - val_acc: 0.8545\n"
     ]
    }
   ],
   "source": [
    "GRU_history = GRU_model.fit(x_train, y_train, epochs=epochs, batch_size=batch_size, validation_split=val_split)\n",
    "GRU_model.save('GRU_imdb_sentiment_analysis.h5')"
   ]
  },
  {
   "cell_type": "code",
   "execution_count": 22,
   "metadata": {},
   "outputs": [
    {
     "name": "stdout",
     "output_type": "stream",
     "text": [
      "Train on 32000 samples, validate on 8000 samples\n",
      "Epoch 1/5\n",
      "32000/32000 [==============================] - 12s 384us/step - loss: 0.5416 - acc: 0.7153 - val_loss: 0.4691 - val_acc: 0.7774\n",
      "Epoch 2/5\n",
      "32000/32000 [==============================] - 12s 376us/step - loss: 0.4345 - acc: 0.7997 - val_loss: 0.5733 - val_acc: 0.7204\n",
      "Epoch 3/5\n",
      "32000/32000 [==============================] - 12s 376us/step - loss: 0.3982 - acc: 0.8193 - val_loss: 0.4268 - val_acc: 0.8009\n",
      "Epoch 4/5\n",
      "32000/32000 [==============================] - 14s 426us/step - loss: 0.3630 - acc: 0.8370 - val_loss: 0.4307 - val_acc: 0.7991\n",
      "Epoch 5/5\n",
      "32000/32000 [==============================] - 13s 395us/step - loss: 0.3346 - acc: 0.8531 - val_loss: 0.4927 - val_acc: 0.7797\n"
     ]
    }
   ],
   "source": [
    "CNN_history = CNN_model.fit(x_train, y_train, epochs=epochs, batch_size=batch_size, validation_split=val_split)\n",
    "CNN_model.save('CNN_imdb_sentiment_analysis.h5')"
   ]
  },
  {
   "cell_type": "code",
   "execution_count": 27,
   "metadata": {},
   "outputs": [],
   "source": [
    "def plot_graph(history, title = 'accuracy and loss graphs'):\n",
    "    \n",
    "    acc_values = history.history['acc']\n",
    "    val_acc_values = history.history['val_acc']\n",
    "\n",
    "    loss_values = history.history['loss']\n",
    "    val_loss_values = history.history['val_loss']\n",
    "\n",
    "    epochs_range = range(1, epochs + 1)\n",
    "\n",
    "    fig, ax = plt.subplots(1, 2, figsize=(15, 5))\n",
    "    fig.suptitle(title)\n",
    "    \n",
    "    ax[0].plot(epochs_range, acc_values, label='Training accuracy')\n",
    "    ax[0].plot(epochs_range, val_acc_values, label='Validation accuracy')\n",
    "    ax[0].set(xlabel='Epochs', ylabel='Accuracy')\n",
    "    ax[0].legend()\n",
    "    ax[0].set_title('Accuracy')\n",
    "\n",
    "    ax[1].plot(epochs_range, loss_values, label='Training loss')\n",
    "    ax[1].plot(epochs_range, val_loss_values, label='Validation loss')\n",
    "    ax[1].set(xlabel='Epochs', ylabel='Loss')\n",
    "    ax[1].legend()\n",
    "    ax[1].set_title('Loss')"
   ]
  },
  {
   "cell_type": "code",
   "execution_count": 28,
   "metadata": {},
   "outputs": [
    {
     "data": {
      "image/png": "[encoded data removed]",
      "text/plain": [
       "<Figure size 1080x360 with 2 Axes>"
      ]
     },
     "metadata": {
      "needs_background": "light"
     },
     "output_type": "display_data"
    },
    {
     "data": {
      "image/png": "[encoded data removed]",
      "text/plain": [
       "<Figure size 1080x360 with 2 Axes>"
      ]
     },
     "metadata": {
      "needs_background": "light"
     },
     "output_type": "display_data"
    },
    {
     "data": {
      "image/png": "[encoded data removed]",
      "text/plain": [
       "<Figure size 1080x360 with 2 Axes>"
      ]
     },
     "metadata": {
      "needs_background": "light"
     },
     "output_type": "display_data"
    }
   ],
   "source": [
    "plot_graph(LSTM_history, 'LSTM Model')\n",
    "plot_graph(GRU_history, 'GRU Model')\n",
    "plot_graph(CNN_history, 'CNN Model')"
   ]
  },
  {
   "cell_type": "markdown",
   "metadata": {},
   "source": [
    "## 9. Test models on testing samples"
   ]
  },
  {
   "cell_type": "code",
   "execution_count": 25,
   "metadata": {},
   "outputs": [],
   "source": [
    "def test_model(model):\n",
    "    scores = model.evaluate(x_test, y_test)\n",
    "    print('Loss: {}'.format(scores[0]))\n",
    "    print('Accuracy: {}'.format(scores[1]))"
   ]
  },
  {
   "cell_type": "code",
   "execution_count": 29,
   "metadata": {},
   "outputs": [
    {
     "name": "stdout",
     "output_type": "stream",
     "text": [
      "LSTM Model\n",
      "10000/10000 [==============================] - 4s 363us/step\n",
      "Loss: 0.3411164959669113\n",
      "Accuracy: 0.8574000000953674\n"
     ]
    }
   ],
   "source": [
    "print('LSTM Model')\n",
    "test_model(LSTM_model)"
   ]
  },
  {
   "cell_type": "code",
   "execution_count": 30,
   "metadata": {},
   "outputs": [
    {
     "name": "stdout",
     "output_type": "stream",
     "text": [
      "GRU Model\n",
      "10000/10000 [==============================] - 4s 371us/step\n",
      "Loss: 0.33136503682136537\n",
      "Accuracy: 0.8550999760627747\n"
     ]
    }
   ],
   "source": [
    "print('GRU Model')\n",
    "test_model(GRU_model)"
   ]
  },
  {
   "cell_type": "code",
   "execution_count": 31,
   "metadata": {},
   "outputs": [
    {
     "name": "stdout",
     "output_type": "stream",
     "text": [
      "CNN Model\n",
      "10000/10000 [==============================] - 1s 119us/step\n",
      "Loss: 0.47741796178817747\n",
      "Accuracy: 0.7842000126838684\n"
     ]
    }
   ],
   "source": [
    "print('CNN Model')\n",
    "test_model(CNN_model)"
   ]
  }
 ],
 "metadata": {
  "kernelspec": {
   "display_name": "AI",
   "language": "python",
   "name": "ai"
  },
  "language_info": {
   "codemirror_mode": {
    "name": "ipython",
    "version": 3
   },
   "file_extension": ".py",
   "mimetype": "text/x-python",
   "name": "python",
   "nbconvert_exporter": "python",
   "pygments_lexer": "ipython3",
   "version": "3.8.3"
  }
 },
 "nbformat": 4,
 "nbformat_minor": 4
}
